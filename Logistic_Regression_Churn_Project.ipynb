{
 "cells": [
  {
   "cell_type": "code",
   "execution_count": 2,
   "metadata": {},
   "outputs": [
    {
     "name": "stderr",
     "output_type": "stream",
     "text": [
      "Installing package into 'C:/Users/Dell/Documents/R/win-library/3.6'\n",
      "(as 'lib' is unspecified)\n"
     ]
    },
    {
     "name": "stdout",
     "output_type": "stream",
     "text": [
      "package 'dplyr' successfully unpacked and MD5 sums checked\n",
      "\n",
      "The downloaded binary packages are in\n",
      "\tC:\\Users\\Dell\\AppData\\Local\\Temp\\RtmpYrDtRU\\downloaded_packages\n"
     ]
    },
    {
     "name": "stderr",
     "output_type": "stream",
     "text": [
      "Warning message:\n",
      "\"package 'dplyr' was built under R version 3.6.3\"\n",
      "Attaching package: 'dplyr'\n",
      "\n",
      "The following objects are masked from 'package:stats':\n",
      "\n",
      "    filter, lag\n",
      "\n",
      "The following objects are masked from 'package:base':\n",
      "\n",
      "    intersect, setdiff, setequal, union\n",
      "\n"
     ]
    }
   ],
   "source": [
    "# Starting with \"dplyr\" library\n",
    "install.packages(\"dplyr\")\n",
    "library(dplyr)"
   ]
  },
  {
   "cell_type": "code",
   "execution_count": 3,
   "metadata": {},
   "outputs": [
    {
     "name": "stderr",
     "output_type": "stream",
     "text": [
      "Warning message:\n",
      "\"package 'readr' was built under R version 3.6.3\"Warning message:\n",
      "\"Missing column names filled in: 'X1' [1]\"Parsed with column specification:\n",
      "cols(\n",
      "  .default = col_double(),\n",
      "  orderDate = col_date(format = \"\"),\n",
      "  title = col_character(),\n",
      "  paymentMethod = col_character()\n",
      ")\n",
      "See spec(...) for full column specifications.\n"
     ]
    },
    {
     "data": {
      "text/html": [
       "<table>\n",
       "<thead><tr><th scope=col>X1</th><th scope=col>ID</th><th scope=col>orderDate</th><th scope=col>title</th><th scope=col>newsletter</th><th scope=col>websiteDesign</th><th scope=col>paymentMethod</th><th scope=col>couponDiscount</th><th scope=col>purchaseValue</th><th scope=col>giftwrapping</th><th scope=col>...</th><th scope=col>dvd</th><th scope=col>blueray</th><th scope=col>vinyl</th><th scope=col>videogame</th><th scope=col>videogameDownload</th><th scope=col>tvEquiment</th><th scope=col>prodOthers</th><th scope=col>prodRemitted</th><th scope=col>prodSecondHand</th><th scope=col>returnCustomer</th></tr></thead>\n",
       "<tbody>\n",
       "\t<tr><td> 1             </td><td> 1             </td><td>2014-12-23     </td><td>Mr             </td><td>0              </td><td>2              </td><td>Current Account</td><td>1              </td><td>2              </td><td>0              </td><td>...            </td><td>0              </td><td>1              </td><td>0              </td><td>0              </td><td>0              </td><td>0              </td><td>0              </td><td>0              </td><td>0              </td><td>0              </td></tr>\n",
       "\t<tr><td> 2             </td><td> 3             </td><td>2014-09-10     </td><td>Mr             </td><td>0              </td><td>1              </td><td>Invoice        </td><td>0              </td><td>1              </td><td>0              </td><td>...            </td><td>0              </td><td>0              </td><td>0              </td><td>0              </td><td>0              </td><td>0              </td><td>0              </td><td>0              </td><td>0              </td><td>0              </td></tr>\n",
       "\t<tr><td> 3             </td><td> 5             </td><td>2014-08-30     </td><td>Mr             </td><td>0              </td><td>1              </td><td>Cash           </td><td>0              </td><td>4              </td><td>0              </td><td>...            </td><td>0              </td><td>0              </td><td>1              </td><td>0              </td><td>0              </td><td>0              </td><td>0              </td><td>0              </td><td>0              </td><td>0              </td></tr>\n",
       "\t<tr><td> 4             </td><td> 7             </td><td>2015-01-12     </td><td>Mr             </td><td>0              </td><td>3              </td><td>Cash           </td><td>0              </td><td>4              </td><td>0              </td><td>...            </td><td>1              </td><td>0              </td><td>0              </td><td>0              </td><td>0              </td><td>0              </td><td>0              </td><td>0              </td><td>0              </td><td>0              </td></tr>\n",
       "\t<tr><td> 5             </td><td> 8             </td><td>2014-09-26     </td><td>Mr             </td><td>0              </td><td>3              </td><td>Cash           </td><td>0              </td><td>4              </td><td>0              </td><td>...            </td><td>2              </td><td>0              </td><td>0              </td><td>0              </td><td>0              </td><td>0              </td><td>0              </td><td>0              </td><td>0              </td><td>0              </td></tr>\n",
       "\t<tr><td> 6             </td><td> 9             </td><td>2014-07-17     </td><td>Mr             </td><td>0              </td><td>1              </td><td>Credit Card    </td><td>1              </td><td>4              </td><td>0              </td><td>...            </td><td>4              </td><td>0              </td><td>0              </td><td>0              </td><td>0              </td><td>0              </td><td>0              </td><td>0              </td><td>0              </td><td>0              </td></tr>\n",
       "\t<tr><td> 7             </td><td>10             </td><td>2014-08-24     </td><td>Mr             </td><td>1              </td><td>1              </td><td>Invoice        </td><td>0              </td><td>4              </td><td>0              </td><td>...            </td><td>0              </td><td>0              </td><td>0              </td><td>0              </td><td>0              </td><td>0              </td><td>0              </td><td>0              </td><td>0              </td><td>0              </td></tr>\n",
       "\t<tr><td> 8             </td><td>11             </td><td>2015-01-11     </td><td>Mrs            </td><td>0              </td><td>2              </td><td>Invoice        </td><td>0              </td><td>5              </td><td>0              </td><td>...            </td><td>3              </td><td>0              </td><td>0              </td><td>0              </td><td>0              </td><td>0              </td><td>0              </td><td>0              </td><td>0              </td><td>0              </td></tr>\n",
       "\t<tr><td> 9             </td><td>12             </td><td>2014-04-23     </td><td>Company        </td><td>1              </td><td>2              </td><td>Current Account</td><td>1              </td><td>1              </td><td>0              </td><td>...            </td><td>0              </td><td>1              </td><td>0              </td><td>0              </td><td>0              </td><td>0              </td><td>0              </td><td>0              </td><td>0              </td><td>0              </td></tr>\n",
       "\t<tr><td>10             </td><td>13             </td><td>2014-10-04     </td><td>Mr             </td><td>0              </td><td>2              </td><td>Cash           </td><td>0              </td><td>3              </td><td>0              </td><td>...            </td><td>0              </td><td>0              </td><td>0              </td><td>0              </td><td>0              </td><td>0              </td><td>0              </td><td>0              </td><td>0              </td><td>0              </td></tr>\n",
       "</tbody>\n",
       "</table>\n"
      ],
      "text/latex": [
       "\\begin{tabular}{r|llllllllllllllllllllll}\n",
       " X1 & ID & orderDate & title & newsletter & websiteDesign & paymentMethod & couponDiscount & purchaseValue & giftwrapping & ... & dvd & blueray & vinyl & videogame & videogameDownload & tvEquiment & prodOthers & prodRemitted & prodSecondHand & returnCustomer\\\\\n",
       "\\hline\n",
       "\t  1              &  1              & 2014-12-23      & Mr              & 0               & 2               & Current Account & 1               & 2               & 0               & ...             & 0               & 1               & 0               & 0               & 0               & 0               & 0               & 0               & 0               & 0              \\\\\n",
       "\t  2              &  3              & 2014-09-10      & Mr              & 0               & 1               & Invoice         & 0               & 1               & 0               & ...             & 0               & 0               & 0               & 0               & 0               & 0               & 0               & 0               & 0               & 0              \\\\\n",
       "\t  3              &  5              & 2014-08-30      & Mr              & 0               & 1               & Cash            & 0               & 4               & 0               & ...             & 0               & 0               & 1               & 0               & 0               & 0               & 0               & 0               & 0               & 0              \\\\\n",
       "\t  4              &  7              & 2015-01-12      & Mr              & 0               & 3               & Cash            & 0               & 4               & 0               & ...             & 1               & 0               & 0               & 0               & 0               & 0               & 0               & 0               & 0               & 0              \\\\\n",
       "\t  5              &  8              & 2014-09-26      & Mr              & 0               & 3               & Cash            & 0               & 4               & 0               & ...             & 2               & 0               & 0               & 0               & 0               & 0               & 0               & 0               & 0               & 0              \\\\\n",
       "\t  6              &  9              & 2014-07-17      & Mr              & 0               & 1               & Credit Card     & 1               & 4               & 0               & ...             & 4               & 0               & 0               & 0               & 0               & 0               & 0               & 0               & 0               & 0              \\\\\n",
       "\t  7              & 10              & 2014-08-24      & Mr              & 1               & 1               & Invoice         & 0               & 4               & 0               & ...             & 0               & 0               & 0               & 0               & 0               & 0               & 0               & 0               & 0               & 0              \\\\\n",
       "\t  8              & 11              & 2015-01-11      & Mrs             & 0               & 2               & Invoice         & 0               & 5               & 0               & ...             & 3               & 0               & 0               & 0               & 0               & 0               & 0               & 0               & 0               & 0              \\\\\n",
       "\t  9              & 12              & 2014-04-23      & Company         & 1               & 2               & Current Account & 1               & 1               & 0               & ...             & 0               & 1               & 0               & 0               & 0               & 0               & 0               & 0               & 0               & 0              \\\\\n",
       "\t 10              & 13              & 2014-10-04      & Mr              & 0               & 2               & Cash            & 0               & 3               & 0               & ...             & 0               & 0               & 0               & 0               & 0               & 0               & 0               & 0               & 0               & 0              \\\\\n",
       "\\end{tabular}\n"
      ],
      "text/markdown": [
       "\n",
       "| X1 | ID | orderDate | title | newsletter | websiteDesign | paymentMethod | couponDiscount | purchaseValue | giftwrapping | ... | dvd | blueray | vinyl | videogame | videogameDownload | tvEquiment | prodOthers | prodRemitted | prodSecondHand | returnCustomer |\n",
       "|---|---|---|---|---|---|---|---|---|---|---|---|---|---|---|---|---|---|---|---|---|\n",
       "|  1              |  1              | 2014-12-23      | Mr              | 0               | 2               | Current Account | 1               | 2               | 0               | ...             | 0               | 1               | 0               | 0               | 0               | 0               | 0               | 0               | 0               | 0               |\n",
       "|  2              |  3              | 2014-09-10      | Mr              | 0               | 1               | Invoice         | 0               | 1               | 0               | ...             | 0               | 0               | 0               | 0               | 0               | 0               | 0               | 0               | 0               | 0               |\n",
       "|  3              |  5              | 2014-08-30      | Mr              | 0               | 1               | Cash            | 0               | 4               | 0               | ...             | 0               | 0               | 1               | 0               | 0               | 0               | 0               | 0               | 0               | 0               |\n",
       "|  4              |  7              | 2015-01-12      | Mr              | 0               | 3               | Cash            | 0               | 4               | 0               | ...             | 1               | 0               | 0               | 0               | 0               | 0               | 0               | 0               | 0               | 0               |\n",
       "|  5              |  8              | 2014-09-26      | Mr              | 0               | 3               | Cash            | 0               | 4               | 0               | ...             | 2               | 0               | 0               | 0               | 0               | 0               | 0               | 0               | 0               | 0               |\n",
       "|  6              |  9              | 2014-07-17      | Mr              | 0               | 1               | Credit Card     | 1               | 4               | 0               | ...             | 4               | 0               | 0               | 0               | 0               | 0               | 0               | 0               | 0               | 0               |\n",
       "|  7              | 10              | 2014-08-24      | Mr              | 1               | 1               | Invoice         | 0               | 4               | 0               | ...             | 0               | 0               | 0               | 0               | 0               | 0               | 0               | 0               | 0               | 0               |\n",
       "|  8              | 11              | 2015-01-11      | Mrs             | 0               | 2               | Invoice         | 0               | 5               | 0               | ...             | 3               | 0               | 0               | 0               | 0               | 0               | 0               | 0               | 0               | 0               |\n",
       "|  9              | 12              | 2014-04-23      | Company         | 1               | 2               | Current Account | 1               | 1               | 0               | ...             | 0               | 1               | 0               | 0               | 0               | 0               | 0               | 0               | 0               | 0               |\n",
       "| 10              | 13              | 2014-10-04      | Mr              | 0               | 2               | Cash            | 0               | 3               | 0               | ...             | 0               | 0               | 0               | 0               | 0               | 0               | 0               | 0               | 0               | 0               |\n",
       "\n"
      ],
      "text/plain": [
       "   X1 ID orderDate  title   newsletter websiteDesign paymentMethod  \n",
       "1   1  1 2014-12-23 Mr      0          2             Current Account\n",
       "2   2  3 2014-09-10 Mr      0          1             Invoice        \n",
       "3   3  5 2014-08-30 Mr      0          1             Cash           \n",
       "4   4  7 2015-01-12 Mr      0          3             Cash           \n",
       "5   5  8 2014-09-26 Mr      0          3             Cash           \n",
       "6   6  9 2014-07-17 Mr      0          1             Credit Card    \n",
       "7   7 10 2014-08-24 Mr      1          1             Invoice        \n",
       "8   8 11 2015-01-11 Mrs     0          2             Invoice        \n",
       "9   9 12 2014-04-23 Company 1          2             Current Account\n",
       "10 10 13 2014-10-04 Mr      0          2             Cash           \n",
       "   couponDiscount purchaseValue giftwrapping ... dvd blueray vinyl videogame\n",
       "1  1              2             0            ... 0   1       0     0        \n",
       "2  0              1             0            ... 0   0       0     0        \n",
       "3  0              4             0            ... 0   0       1     0        \n",
       "4  0              4             0            ... 1   0       0     0        \n",
       "5  0              4             0            ... 2   0       0     0        \n",
       "6  1              4             0            ... 4   0       0     0        \n",
       "7  0              4             0            ... 0   0       0     0        \n",
       "8  0              5             0            ... 3   0       0     0        \n",
       "9  1              1             0            ... 0   1       0     0        \n",
       "10 0              3             0            ... 0   0       0     0        \n",
       "   videogameDownload tvEquiment prodOthers prodRemitted prodSecondHand\n",
       "1  0                 0          0          0            0             \n",
       "2  0                 0          0          0            0             \n",
       "3  0                 0          0          0            0             \n",
       "4  0                 0          0          0            0             \n",
       "5  0                 0          0          0            0             \n",
       "6  0                 0          0          0            0             \n",
       "7  0                 0          0          0            0             \n",
       "8  0                 0          0          0            0             \n",
       "9  0                 0          0          0            0             \n",
       "10 0                 0          0          0            0             \n",
       "   returnCustomer\n",
       "1  0             \n",
       "2  0             \n",
       "3  0             \n",
       "4  0             \n",
       "5  0             \n",
       "6  0             \n",
       "7  0             \n",
       "8  0             \n",
       "9  0             \n",
       "10 0             "
      ]
     },
     "metadata": {},
     "output_type": "display_data"
    },
    {
     "name": "stdout",
     "output_type": "stream",
     "text": [
      "Classes 'spec_tbl_df', 'tbl_df', 'tbl' and 'data.frame':\t45236 obs. of  22 variables:\n",
      " $ X1               : num  1 2 3 4 5 6 7 8 9 10 ...\n",
      " $ ID               : num  1 3 5 7 8 9 10 11 12 13 ...\n",
      " $ orderDate        : Date, format: \"2014-12-23\" \"2014-09-10\" ...\n",
      " $ title            : chr  \"Mr\" \"Mr\" \"Mr\" \"Mr\" ...\n",
      " $ newsletter       : num  0 0 0 0 0 0 1 0 1 0 ...\n",
      " $ websiteDesign    : num  2 1 1 3 3 1 1 2 2 2 ...\n",
      " $ paymentMethod    : chr  \"Current Account\" \"Invoice\" \"Cash\" \"Cash\" ...\n",
      " $ couponDiscount   : num  1 0 0 0 0 1 0 0 1 0 ...\n",
      " $ purchaseValue    : num  2 1 4 4 4 4 4 5 1 3 ...\n",
      " $ giftwrapping     : num  0 0 0 0 0 0 0 0 0 0 ...\n",
      " $ throughAffiliate : num  1 0 0 1 1 0 0 1 1 1 ...\n",
      " $ shippingFees     : num  0 1 0 0 0 0 0 0 1 0 ...\n",
      " $ dvd              : num  0 0 0 1 2 4 0 3 0 0 ...\n",
      " $ blueray          : num  1 0 0 0 0 0 0 0 1 0 ...\n",
      " $ vinyl            : num  0 0 1 0 0 0 0 0 0 0 ...\n",
      " $ videogame        : num  0 0 0 0 0 0 0 0 0 0 ...\n",
      " $ videogameDownload: num  0 0 0 0 0 0 0 0 0 0 ...\n",
      " $ tvEquiment       : num  0 0 0 0 0 0 0 0 0 0 ...\n",
      " $ prodOthers       : num  0 0 0 0 0 0 0 0 0 0 ...\n",
      " $ prodRemitted     : num  0 0 0 0 0 0 0 0 0 0 ...\n",
      " $ prodSecondHand   : num  0 0 0 0 0 0 0 0 0 0 ...\n",
      " $ returnCustomer   : num  0 0 0 0 0 0 0 0 0 0 ...\n",
      " - attr(*, \"spec\")=\n",
      "  .. cols(\n",
      "  ..   X1 = col_double(),\n",
      "  ..   ID = col_double(),\n",
      "  ..   orderDate = col_date(format = \"\"),\n",
      "  ..   title = col_character(),\n",
      "  ..   newsletter = col_double(),\n",
      "  ..   websiteDesign = col_double(),\n",
      "  ..   paymentMethod = col_character(),\n",
      "  ..   couponDiscount = col_double(),\n",
      "  ..   purchaseValue = col_double(),\n",
      "  ..   giftwrapping = col_double(),\n",
      "  ..   throughAffiliate = col_double(),\n",
      "  ..   shippingFees = col_double(),\n",
      "  ..   dvd = col_double(),\n",
      "  ..   blueray = col_double(),\n",
      "  ..   vinyl = col_double(),\n",
      "  ..   videogame = col_double(),\n",
      "  ..   videogameDownload = col_double(),\n",
      "  ..   tvEquiment = col_double(),\n",
      "  ..   prodOthers = col_double(),\n",
      "  ..   prodRemitted = col_double(),\n",
      "  ..   prodSecondHand = col_double(),\n",
      "  ..   returnCustomer = col_double()\n",
      "  .. )\n"
     ]
    }
   ],
   "source": [
    "# Dataset= churn_data (Actual values of customer characteristics and churn information)\n",
    "library(readr)\n",
    "churn_data <- read_csv(\"C:/Users/Dell/Desktop/churn_data.csv\")\n",
    "head(churn_data,10)\n",
    "str(churn_data)"
   ]
  },
  {
   "cell_type": "code",
   "execution_count": 4,
   "metadata": {},
   "outputs": [],
   "source": [
    "# Fitting a Logistic model with all variables as explanatory\n",
    "LogistModel <- glm(returnCustomer ~ ., data=churn_data, family=binomial)"
   ]
  },
  {
   "cell_type": "code",
   "execution_count": 5,
   "metadata": {},
   "outputs": [
    {
     "data": {
      "text/html": [
       "<dl class=dl-horizontal>\n",
       "\t<dt>(Intercept)</dt>\n",
       "\t\t<dd>0</dd>\n",
       "\t<dt>X1</dt>\n",
       "\t\t<dd>1</dd>\n",
       "\t<dt>ID</dt>\n",
       "\t\t<dd>1</dd>\n",
       "\t<dt>orderDate</dt>\n",
       "\t\t<dd>1</dd>\n",
       "\t<dt>titleMr</dt>\n",
       "\t\t<dd>1.21</dd>\n",
       "\t<dt>titleMrs</dt>\n",
       "\t\t<dd>1.24</dd>\n",
       "\t<dt>titleOthers</dt>\n",
       "\t\t<dd>2.14</dd>\n",
       "\t<dt>newsletter</dt>\n",
       "\t\t<dd>1.68</dd>\n",
       "\t<dt>websiteDesign</dt>\n",
       "\t\t<dd>1.11</dd>\n",
       "\t<dt>paymentMethodCredit Card</dt>\n",
       "\t\t<dd>0.78</dd>\n",
       "\t<dt>paymentMethodCurrent Account</dt>\n",
       "\t\t<dd>0.76</dd>\n",
       "\t<dt>paymentMethodInvoice</dt>\n",
       "\t\t<dd>0.78</dd>\n",
       "\t<dt>couponDiscount</dt>\n",
       "\t\t<dd>0.8</dd>\n",
       "\t<dt>purchaseValue</dt>\n",
       "\t\t<dd>0.97</dd>\n",
       "\t<dt>giftwrapping</dt>\n",
       "\t\t<dd>1.03</dd>\n",
       "\t<dt>throughAffiliate</dt>\n",
       "\t\t<dd>0.98</dd>\n",
       "\t<dt>shippingFees</dt>\n",
       "\t\t<dd>0.63</dd>\n",
       "\t<dt>dvd</dt>\n",
       "\t\t<dd>1.07</dd>\n",
       "\t<dt>blueray</dt>\n",
       "\t\t<dd>1.13</dd>\n",
       "\t<dt>vinyl</dt>\n",
       "\t\t<dd>1.06</dd>\n",
       "\t<dt>videogame</dt>\n",
       "\t\t<dd>0.77</dd>\n",
       "\t<dt>videogameDownload</dt>\n",
       "\t\t<dd>1.32</dd>\n",
       "\t<dt>tvEquiment</dt>\n",
       "\t\t<dd>0.57</dd>\n",
       "\t<dt>prodOthers</dt>\n",
       "\t\t<dd>0.93</dd>\n",
       "\t<dt>prodRemitted</dt>\n",
       "\t\t<dd>2.45</dd>\n",
       "\t<dt>prodSecondHand</dt>\n",
       "\t\t<dd>1.18</dd>\n",
       "</dl>\n"
      ],
      "text/latex": [
       "\\begin{description*}\n",
       "\\item[(Intercept)] 0\n",
       "\\item[X1] 1\n",
       "\\item[ID] 1\n",
       "\\item[orderDate] 1\n",
       "\\item[titleMr] 1.21\n",
       "\\item[titleMrs] 1.24\n",
       "\\item[titleOthers] 2.14\n",
       "\\item[newsletter] 1.68\n",
       "\\item[websiteDesign] 1.11\n",
       "\\item[paymentMethodCredit Card] 0.78\n",
       "\\item[paymentMethodCurrent Account] 0.76\n",
       "\\item[paymentMethodInvoice] 0.78\n",
       "\\item[couponDiscount] 0.8\n",
       "\\item[purchaseValue] 0.97\n",
       "\\item[giftwrapping] 1.03\n",
       "\\item[throughAffiliate] 0.98\n",
       "\\item[shippingFees] 0.63\n",
       "\\item[dvd] 1.07\n",
       "\\item[blueray] 1.13\n",
       "\\item[vinyl] 1.06\n",
       "\\item[videogame] 0.77\n",
       "\\item[videogameDownload] 1.32\n",
       "\\item[tvEquiment] 0.57\n",
       "\\item[prodOthers] 0.93\n",
       "\\item[prodRemitted] 2.45\n",
       "\\item[prodSecondHand] 1.18\n",
       "\\end{description*}\n"
      ],
      "text/markdown": [
       "(Intercept)\n",
       ":   0X1\n",
       ":   1ID\n",
       ":   1orderDate\n",
       ":   1titleMr\n",
       ":   1.21titleMrs\n",
       ":   1.24titleOthers\n",
       ":   2.14newsletter\n",
       ":   1.68websiteDesign\n",
       ":   1.11paymentMethodCredit Card\n",
       ":   0.78paymentMethodCurrent Account\n",
       ":   0.76paymentMethodInvoice\n",
       ":   0.78couponDiscount\n",
       ":   0.8purchaseValue\n",
       ":   0.97giftwrapping\n",
       ":   1.03throughAffiliate\n",
       ":   0.98shippingFees\n",
       ":   0.63dvd\n",
       ":   1.07blueray\n",
       ":   1.13vinyl\n",
       ":   1.06videogame\n",
       ":   0.77videogameDownload\n",
       ":   1.32tvEquiment\n",
       ":   0.57prodOthers\n",
       ":   0.93prodRemitted\n",
       ":   2.45prodSecondHand\n",
       ":   1.18\n",
       "\n"
      ],
      "text/plain": [
       "                 (Intercept)                           X1 \n",
       "                        0.00                         1.00 \n",
       "                          ID                    orderDate \n",
       "                        1.00                         1.00 \n",
       "                     titleMr                     titleMrs \n",
       "                        1.21                         1.24 \n",
       "                 titleOthers                   newsletter \n",
       "                        2.14                         1.68 \n",
       "               websiteDesign     paymentMethodCredit Card \n",
       "                        1.11                         0.78 \n",
       "paymentMethodCurrent Account         paymentMethodInvoice \n",
       "                        0.76                         0.78 \n",
       "              couponDiscount                purchaseValue \n",
       "                        0.80                         0.97 \n",
       "                giftwrapping             throughAffiliate \n",
       "                        1.03                         0.98 \n",
       "                shippingFees                          dvd \n",
       "                        0.63                         1.07 \n",
       "                     blueray                        vinyl \n",
       "                        1.13                         1.06 \n",
       "                   videogame            videogameDownload \n",
       "                        0.77                         1.32 \n",
       "                  tvEquiment                   prodOthers \n",
       "                        0.57                         0.93 \n",
       "                prodRemitted               prodSecondHand \n",
       "                        2.45                         1.18 "
      ]
     },
     "metadata": {},
     "output_type": "display_data"
    }
   ],
   "source": [
    "# Transforming the coefficients for better interpretation\n",
    "coefsExp <- coef(LogistModel) %>% exp() %>% round(2)\n",
    "coefsExp"
   ]
  },
  {
   "cell_type": "code",
   "execution_count": 6,
   "metadata": {},
   "outputs": [
    {
     "name": "stderr",
     "output_type": "stream",
     "text": [
      "Installing package into 'C:/Users/Dell/Documents/R/win-library/3.6'\n",
      "(as 'lib' is unspecified)\n"
     ]
    },
    {
     "name": "stdout",
     "output_type": "stream",
     "text": [
      "package 'MASS' successfully unpacked and MD5 sums checked\n",
      "\n",
      "The downloaded binary packages are in\n",
      "\tC:\\Users\\Dell\\AppData\\Local\\Temp\\RtmpYrDtRU\\downloaded_packages\n"
     ]
    },
    {
     "name": "stderr",
     "output_type": "stream",
     "text": [
      "Warning message:\n",
      "\"package 'MASS' was built under R version 3.6.3\"\n",
      "Attaching package: 'MASS'\n",
      "\n",
      "The following object is masked from 'package:dplyr':\n",
      "\n",
      "    select\n",
      "\n"
     ]
    },
    {
     "data": {
      "text/plain": [
       "\n",
       "Call:\n",
       "glm(formula = returnCustomer ~ ID + orderDate + title + newsletter + \n",
       "    websiteDesign + paymentMethod + couponDiscount + purchaseValue + \n",
       "    shippingFees + dvd + blueray + vinyl + videogame + videogameDownload + \n",
       "    prodRemitted + prodSecondHand, family = binomial, data = churn_data)\n",
       "\n",
       "Deviance Residuals: \n",
       "    Min       1Q   Median       3Q      Max  \n",
       "-1.5188  -0.6597  -0.5691  -0.4618   2.3615  \n",
       "\n",
       "Coefficients:\n",
       "                               Estimate Std. Error z value Pr(>|z|)    \n",
       "(Intercept)                  -9.570e+00  2.496e+00  -3.834 0.000126 ***\n",
       "ID                            1.302e-06  8.255e-07   1.577 0.114833    \n",
       "orderDate                     4.746e-04  1.532e-04   3.099 0.001943 ** \n",
       "titleMr                       1.890e-01  5.333e-02   3.543 0.000395 ***\n",
       "titleMrs                      2.193e-01  5.493e-02   3.992 6.54e-05 ***\n",
       "titleOthers                   7.601e-01  5.800e-02  13.106  < 2e-16 ***\n",
       "newsletter                    5.174e-01  3.029e-02  17.083  < 2e-16 ***\n",
       "websiteDesign                 9.649e-02  1.625e-02   5.939 2.86e-09 ***\n",
       "paymentMethodCredit Card     -2.523e-01  4.820e-02  -5.234 1.66e-07 ***\n",
       "paymentMethodCurrent Account -2.685e-01  4.136e-02  -6.491 8.50e-11 ***\n",
       "paymentMethodInvoice         -2.463e-01  3.603e-02  -6.836 8.12e-12 ***\n",
       "couponDiscount               -2.291e-01  4.063e-02  -5.639 1.71e-08 ***\n",
       "purchaseValue                -2.734e-02  1.271e-02  -2.150 0.031517 *  \n",
       "shippingFees                 -4.670e-01  4.478e-02 -10.427  < 2e-16 ***\n",
       "dvd                           7.187e-02  1.420e-02   5.063 4.12e-07 ***\n",
       "blueray                       1.232e-01  1.756e-02   7.013 2.33e-12 ***\n",
       "vinyl                         6.226e-02  2.276e-02   2.735 0.006229 ** \n",
       "videogame                    -2.551e-01  1.114e-01  -2.290 0.022016 *  \n",
       "videogameDownload             2.852e-01  5.201e-02   5.484 4.16e-08 ***\n",
       "prodRemitted                  8.945e-01  7.617e-02  11.743  < 2e-16 ***\n",
       "prodSecondHand                1.671e-01  9.926e-02   1.683 0.092279 .  \n",
       "---\n",
       "Signif. codes:  0 '***' 0.001 '**' 0.01 '*' 0.05 '.' 0.1 ' ' 1\n",
       "\n",
       "(Dispersion parameter for binomial family taken to be 1)\n",
       "\n",
       "    Null deviance: 43038  on 45235  degrees of freedom\n",
       "Residual deviance: 41715  on 45215  degrees of freedom\n",
       "AIC: 41757\n",
       "\n",
       "Number of Fisher Scoring iterations: 4\n"
      ]
     },
     "metadata": {},
     "output_type": "display_data"
    }
   ],
   "source": [
    "# stepAIC to figure out which variables to include\n",
    "install.packages(\"MASS\")\n",
    "library(MASS)\n",
    "LogistModelNew <- stepAIC(LogistModel,trace=0)\n",
    "summary(LogistModelNew)"
   ]
  },
  {
   "cell_type": "code",
   "execution_count": 7,
   "metadata": {},
   "outputs": [],
   "source": [
    "# Formula of New Model\n",
    "LogistModelNew <- glm(returnCustomer ~ title + newsletter + \n",
    "                        blueray + videogameDownload + prodRemitted, \n",
    "                      data=churn_data, family=binomial)"
   ]
  },
  {
   "cell_type": "code",
   "execution_count": 8,
   "metadata": {},
   "outputs": [
    {
     "name": "stderr",
     "output_type": "stream",
     "text": [
      "Installing package into 'C:/Users/Dell/Documents/R/win-library/3.6'\n",
      "(as 'lib' is unspecified)\n"
     ]
    },
    {
     "name": "stdout",
     "output_type": "stream",
     "text": [
      "package 'descr' successfully unpacked and MD5 sums checked\n",
      "\n",
      "The downloaded binary packages are in\n",
      "\tC:\\Users\\Dell\\AppData\\Local\\Temp\\RtmpYrDtRU\\downloaded_packages\n"
     ]
    },
    {
     "name": "stderr",
     "output_type": "stream",
     "text": [
      "Warning message:\n",
      "\"package 'descr' was built under R version 3.6.3\""
     ]
    },
    {
     "data": {
      "text/plain": [
       "Chi2                 842.8377 \n",
       "Df                   7 \n",
       "Sig.                 0 \n",
       "Cox and Snell Index  0.01845951 \n",
       "Nagelkerke Index     0.03007386 \n",
       "McFadden's R2        0.01958348 "
      ]
     },
     "metadata": {},
     "output_type": "display_data"
    }
   ],
   "source": [
    "# Checking in-sample Evaluation\n",
    "install.packages(\"descr\")\n",
    "library(descr)\n",
    "LogRegR2(LogistModelNew)"
   ]
  },
  {
   "cell_type": "code",
   "execution_count": 9,
   "metadata": {},
   "outputs": [],
   "source": [
    "# Predicting probabilities from full-data\n",
    "churn_data$predNew <- predict(LogistModelNew, type=\"response\",\n",
    "                              na.action=na.exclude)"
   ]
  },
  {
   "cell_type": "code",
   "execution_count": 10,
   "metadata": {},
   "outputs": [
    {
     "name": "stderr",
     "output_type": "stream",
     "text": [
      "Installing package into 'C:/Users/Dell/Documents/R/win-library/3.6'\n",
      "(as 'lib' is unspecified)\n"
     ]
    },
    {
     "name": "stdout",
     "output_type": "stream",
     "text": [
      "package 'ModelMetrics' successfully unpacked and MD5 sums checked\n",
      "\n",
      "The downloaded binary packages are in\n",
      "\tC:\\Users\\Dell\\AppData\\Local\\Temp\\RtmpYrDtRU\\downloaded_packages\n"
     ]
    },
    {
     "name": "stderr",
     "output_type": "stream",
     "text": [
      "Warning message:\n",
      "\"package 'ModelMetrics' was built under R version 3.6.3\"\n",
      "Attaching package: 'ModelMetrics'\n",
      "\n",
      "The following object is masked from 'package:base':\n",
      "\n",
      "    kappa\n",
      "\n"
     ]
    },
    {
     "data": {
      "text/html": [
       "<table>\n",
       "<tbody>\n",
       "\t<tr><td>36952</td><td>8260 </td></tr>\n",
       "\t<tr><td>   12</td><td>  12 </td></tr>\n",
       "</tbody>\n",
       "</table>\n"
      ],
      "text/latex": [
       "\\begin{tabular}{ll}\n",
       "\t 36952 & 8260 \\\\\n",
       "\t    12 &   12 \\\\\n",
       "\\end{tabular}\n"
      ],
      "text/markdown": [
       "\n",
       "| 36952 | 8260  |\n",
       "|    12 |   12  |\n",
       "\n"
      ],
      "text/plain": [
       "     [,1]  [,2]\n",
       "[1,] 36952 8260\n",
       "[2,]    12   12"
      ]
     },
     "metadata": {},
     "output_type": "display_data"
    }
   ],
   "source": [
    "# Confusion Matrix with a threshold of 0.5\n",
    "install.packages(\"ModelMetrics\")\n",
    "library(ModelMetrics)\n",
    "confusionMatrix(churn_data$returnCustomer, churn_data$predNew, cutoff = 0.5)"
   ]
  },
  {
   "cell_type": "code",
   "execution_count": 11,
   "metadata": {},
   "outputs": [],
   "source": [
    "# Out-of-sample Validation (Train/Test Split)\n",
    "set.seed(534381)\n",
    "churn_data$isTrain <- rbinom(nrow(churn_data), 1, 0.66)\n",
    "train <- subset(churn_data, churn_data$isTrain == 1)\n",
    "test <- subset(churn_data, churn_data$isTrain== 0)"
   ]
  },
  {
   "cell_type": "code",
   "execution_count": 12,
   "metadata": {},
   "outputs": [],
   "source": [
    "# Model for Training data and Predicting on Test Data\n",
    "LogModelTrain <- glm(returnCustomer ~ title + newsletter + \n",
    "                       blueray + videogameDownload + prodRemitted,\n",
    "                     family=binomial, data=train)\n",
    "test$predNew <- predict(LogModelTrain, type = \"response\", newdata = test)"
   ]
  },
  {
   "cell_type": "code",
   "execution_count": 15,
   "metadata": {},
   "outputs": [
    {
     "data": {
      "text/html": [
       "<table>\n",
       "<tbody>\n",
       "\t<tr><td>35550</td><td>7556 </td></tr>\n",
       "\t<tr><td> 1414</td><td> 716 </td></tr>\n",
       "</tbody>\n",
       "</table>\n"
      ],
      "text/latex": [
       "\\begin{tabular}{ll}\n",
       "\t 35550 & 7556 \\\\\n",
       "\t  1414 &  716 \\\\\n",
       "\\end{tabular}\n"
      ],
      "text/markdown": [
       "\n",
       "| 35550 | 7556  |\n",
       "|  1414 |  716  |\n",
       "\n"
      ],
      "text/plain": [
       "     [,1]  [,2]\n",
       "[1,] 35550 7556\n",
       "[2,]  1414  716"
      ]
     },
     "metadata": {},
     "output_type": "display_data"
    },
    {
     "data": {
      "text/html": [
       "0.801706605358564"
      ],
      "text/latex": [
       "0.801706605358564"
      ],
      "text/markdown": [
       "0.801706605358564"
      ],
      "text/plain": [
       "[1] 0.8017066"
      ]
     },
     "metadata": {},
     "output_type": "display_data"
    }
   ],
   "source": [
    "# Confusion Matrix with a threshold of 0.3\n",
    "# Resulting an accuracy of 0.80\n",
    "\n",
    "confMatrixNew <- confusionMatrix(churn_data$returnCustomer, churn_data$predNew, cutoff = 0.3)\n",
    "confMatrixNew\n",
    "accuracyNew <- sum(diag(confMatrixNew))/sum(confMatrixNew)\n",
    "accuracyNew"
   ]
  }
 ],
 "metadata": {
  "kernelspec": {
   "display_name": "R",
   "language": "R",
   "name": "ir"
  },
  "language_info": {
   "codemirror_mode": "r",
   "file_extension": ".r",
   "mimetype": "text/x-r-source",
   "name": "R",
   "pygments_lexer": "r",
   "version": "3.6.1"
  }
 },
 "nbformat": 4,
 "nbformat_minor": 4
}
